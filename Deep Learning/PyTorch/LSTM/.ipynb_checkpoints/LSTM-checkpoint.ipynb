{
 "cells": [
  {
   "cell_type": "code",
   "execution_count": 12,
   "metadata": {},
   "outputs": [
    {
     "data": {
      "text/plain": [
       "<torch._C.Generator at 0x5d2dfb0>"
      ]
     },
     "execution_count": 12,
     "metadata": {},
     "output_type": "execute_result"
    }
   ],
   "source": [
    "import numpy as np\n",
    "import torch\n",
    "import torch.nn as nn\n",
    "import torch.nn.functional as F\n",
    "import torch.optim as optim\n",
    "\n",
    "np.random.seed(0)\n",
    "torch.manual_seed(0)"
   ]
  },
  {
   "attachments": {
    "embreber.gif": {
     "image/gif": "[encoded data removed]"
    }
   },
   "cell_type": "markdown",
   "metadata": {},
   "source": [
    "# embed reber文法\n",
    "![embreber.gif](attachment:embreber.gif)\n",
    "识别embed reber文法需要可以记忆长期依赖的模型\n",
    "\n",
    "生成embed reber串可以在之前的生成模块两边随机生成T或P的对"
   ]
  },
  {
   "cell_type": "code",
   "execution_count": 13,
   "metadata": {},
   "outputs": [
    {
     "name": "stdout",
     "output_type": "stream",
     "text": [
      "['BTBTXXTTVPSETE', 'BPBTXXTTVPSEPE', 'BTBTSSSXXVVETE', 'BTBPVPXTTVVETE', 'BTBTSSXXVPSETE', 'BPBTSXXTTVVEPE', 'BTBPTTVPXVVETE', 'BPBTXXTTVPSEPE', 'BPBTSSSSSXSEPE', 'BTBTSSSXXVVETE', 'BPBPTVPXTVVEPE', 'BPBPVPXTTVVEPE', 'BPBPTTTTVPSEPE', 'BTBTXXTTVPSETE', 'BTBTSSSXXVVETE', 'BPBTSSSXXVVEPE', 'BPBTSSSSSXSEPE', 'BTBPTTTTTVVETE', 'BTBTXXTTVPSETE', 'BPBPVPXTTVVEPE', 'BPBPVPXTTVVEPE', 'BTBTSSXXVPSETE', 'BPBPTTTTVPSEPE', 'BPBPTTVPXVVEPE', 'BPBPTTTTVPSEPE', 'BTBTXXVPXVVETE', 'BPBPVPXTVPSEPE', 'BPBTSXXTVPSEPE', 'BTBTSSXXTVVETE', 'BPBPVPXTVPSEPE', 'BTBTSSXXTVVETE', 'BPBTXXTTTVVEPE', 'BTBTXXTTVPSETE', 'BTBTSXXTTVVETE', 'BTBTSSSXXVVETE', 'BPBPTVPXTVVEPE', 'BTBPTTVPXVVETE', 'BTBTXXTTVPSETE', 'BPBTXXTTTVVEPE', 'BPBPVPXTVPSEPE', 'BPBTXXVPXVVEPE', 'BPBPVPXTVPSEPE', 'BTBPTVPXTVVETE', 'BTBPVPXTVPSETE', 'BTBPTTTTTVVETE', 'BTBTXXTTTVVETE', 'BPBTXXVPXVVEPE', 'BPBTSXXTTVVEPE', 'BPBPVPXTVPSEPE', 'BPBPTTTTVPSEPE', 'BTBPTTTTVPSETE', 'BPBTXXVPXVVEPE', 'BPBTSXXTVPSEPE', 'BPBPTTTTVPSEPE', 'BPBTSSSXXVVEPE', 'BTBTSXXTTVVETE', 'BTBTSSSXXVVETE', 'BTBTSSSXXVVETE', 'BTBTSSSXXVVETE', 'BPBPVPXTVPSEPE', 'BPBPTVPXVPSEPE', 'BTBPTVPXTVVETE', 'BTBTSSSSSXSETE', 'BTBPVPXTVPSETE', 'BPBTXXVPXVVEPE', 'BPBTXXTTVPSEPE', 'BTBTSSXXTVVETE', 'BPBTXXTTVPSEPE', 'BPBTSSSSSXSEPE', 'BTBTSXXTTVVETE', 'BTBPTVPXVPSETE', 'BPBPTTTTTVVEPE', 'BTBTSSSXXVVETE', 'BTBPVPXTTVVETE', 'BPBPTTTTTVVEPE', 'BPBPTVPXVPSEPE', 'BTBTXXTTTVVETE', 'BPBPTTTTTVVEPE', 'BPBPTTVPXVVEPE', 'BPBPVPXTVPSEPE', 'BTBTSSXXTVVETE', 'BTBTXXTTVPSETE', 'BPBTXXTTTVVEPE', 'BTBTSSXXTVVETE', 'BPBTSXXTTVVEPE', 'BPBPTTTTTVVEPE', 'BTBTXXTTVPSETE', 'BTBTSXXTTVVETE', 'BPBPVPXTVPSEPE', 'BPBTSSXXVPSEPE', 'BPBPTVPXVPSEPE', 'BPBTSSXXVPSEPE', 'BTBPTVPXVPSETE', 'BTBPVPXTVPSETE', 'BPBPTTVPXVVEPE', 'BPBPVPXTTVVEPE', 'BTBPTTTTTVVETE', 'BTBTSSSSSXSETE', 'BPBTSSXXVPSEPE', 'BPBPTTVPXVVEPE', 'BTBPVPXTTVVETE', 'BTBTXXTTTVVETE', 'BPBPVPXTTVVEPE', 'BPBPTVPXTVVEPE', 'BTBTSSSSSXSETE', 'BPBTSSXXVPSEPE', 'BTBTXXVPXVVETE', 'BTBPTVPXVPSETE', 'BPBPTTTTTVVEPE', 'BTBPTVPXVPSETE', 'BTBPTTTTTVVETE', 'BTBPVPXTTVVETE', 'BTBPTTTTTVVETE', 'BPBPTVPXVPSEPE', 'BPBTSXXTTVVEPE', 'BTBTXXTTTVVETE', 'BPBPVPXTTVVEPE', 'BTBTXXTTTVVETE', 'BPBTXXTTVPSEPE', 'BPBPTTTTVPSEPE', 'BPBTXXTTTVVEPE', 'BPBTSXXTVPSEPE', 'BTBTSSXXTVVETE', 'BTBPVPXTVPSETE', 'BPBTXXTTTVVEPE', 'BPBTXXTTTVVEPE', 'BPBPVPXTVPSEPE', 'BPBTSSSXXVVEPE', 'BTBTSXXTTVVETE', 'BPBTXXTTTVVEPE', 'BPBTXXTTTVVEPE', 'BPBPTVPXTVVEPE', 'BPBTSXXTVPSEPE', 'BPBPTTTTVPSEPE', 'BPBTXXTTVPSEPE', 'BPBTXXVPXVVEPE', 'BPBPVPXTVPSEPE', 'BPBTXXTTVPSEPE', 'BPBTXXTTVPSEPE', 'BPBPTTTTTVVEPE', 'BTBPTTTTVPSETE', 'BPBPTTTTTVVEPE', 'BPBPTTTTVPSEPE', 'BTBTXXTTVPSETE', 'BPBPTTVPXVVEPE', 'BPBTSSSXXVVEPE', 'BTBPTVPXTVVETE', 'BTBPTTTTVPSETE', 'BTBTXXTTVPSETE', 'BPBTSSXXTVVEPE', 'BTBPTTTTVPSETE', 'BTBPVPXTTVVETE', 'BTBTSSXXVPSETE', 'BTBTXXVPXVVETE', 'BTBTSXXTTVVETE', 'BPBTXXTTVPSEPE', 'BPBTSSXXVPSEPE', 'BPBPTVPXVPSEPE', 'BTBTXXTTTVVETE', 'BPBTSSSXXVVEPE', 'BTBTSSSSSXSETE', 'BTBTSSSSSXSETE', 'BTBTSSXXVPSETE', 'BPBPTTVPXVVEPE', 'BTBTXXTTTVVETE', 'BPBTSSXXTVVEPE', 'BPBPTVPXVPSEPE', 'BTBPTVPXVPSETE', 'BTBPVPXTVPSETE', 'BPBPTTVPXVVEPE', 'BPBTSSSSSXSEPE', 'BPBTXXVPXVVEPE', 'BPBTSSSSSXSEPE', 'BPBPTTTTVPSEPE', 'BTBPVPXTVPSETE', 'BPBTXXTTVPSEPE', 'BTBTSXXTVPSETE', 'BTBPVPXTTVVETE', 'BTBPTTTTTVVETE', 'BPBTXXVPXVVEPE', 'BPBTSSSSSXSEPE', 'BPBTSXXTVPSEPE', 'BPBPTTTTTVVEPE', 'BTBTSSXXVPSETE', 'BTBTSSSSSXSETE', 'BTBTSSSSSXSETE', 'BTBTXXTTTVVETE', 'BTBPTVPXTVVETE', 'BTBTSSSSSXSETE', 'BPBTSSXXVPSEPE', 'BTBTXXTTVPSETE', 'BPBPTTTTVPSEPE', 'BTBPTTVPXVVETE', 'BTBTXXTTVPSETE', 'BTBPTVPXVPSETE', 'BTBPVPXTVPSETE', 'BTBPTTTTVPSETE', 'BPBPTTTTVPSEPE', 'BPBTXXTTTVVEPE', 'BTBPTTTTVPSETE', 'BPBTSSSSSXSEPE', 'BPBPVPXTVPSEPE', 'BPBTXXTTTVVEPE', 'BTBTXXTTTVVETE', 'BTBTXXVPXVVETE', 'BPBPTVPXVPSEPE', 'BTBPVPXTTVVETE', 'BPBPTTVPXVVEPE', 'BPBPVPXTTVVEPE', 'BTBTSSSXXVVETE', 'BTBTSSSSSXSETE', 'BPBPTTTTTVVEPE', 'BPBPVPXTVPSEPE', 'BTBPTVPXTVVETE', 'BPBPVPXTTVVEPE', 'BPBTSXXTTVVEPE', 'BPBPVPXTVPSEPE', 'BPBPVPXTTVVEPE', 'BPBTSSSXXVVEPE', 'BPBTSSSXXVVEPE', 'BTBPTTTTVPSETE', 'BPBPTTTTVPSEPE', 'BTBTSSSXXVVETE', 'BTBPTVPXTVVETE', 'BPBPTTTTVPSEPE', 'BPBTSSXXTVVEPE', 'BTBPTTTTTVVETE', 'BTBTSXXTTVVETE', 'BTBPTVPXVPSETE', 'BPBPVPXTVPSEPE', 'BPBTXXVPXVVEPE', 'BPBTSSSSSXSEPE', 'BTBPTTTTVPSETE', 'BTBPTVPXVPSETE', 'BTBPTTVPXVVETE', 'BTBPTTTTVPSETE', 'BPBPVPXTTVVEPE', 'BTBTSSSXXVVETE', 'BTBPVPXTVPSETE', 'BTBTXXVPXVVETE', 'BTBTSSSXXVVETE', 'BPBPTTTTVPSEPE', 'BPBPVPXTTVVEPE', 'BTBPTVPXVPSETE', 'BPBTSSSXXVVEPE', 'BPBPVPXTTVVEPE', 'BPBTXXTTTVVEPE', 'BTBTXXTTTVVETE', 'BTBTSSSSSXSETE', 'BPBTSSSSSXSEPE', 'BPBTXXVPXVVEPE', 'BPBTXXTTVPSEPE', 'BPBPVPXTVPSEPE', 'BPBPVPXTTVVEPE', 'BPBTSSXXTVVEPE', 'BTBPTVPXVPSETE']\n"
     ]
    }
   ],
   "source": [
    "# 生成embed reber语言\n",
    "def EMBED_REBER(n, lenth=None):\n",
    "    N = 0\n",
    "    R = []\n",
    "    while N < n:\n",
    "        r, s = \"B\", 0 # 初始文字，状态\n",
    "        transfer_map = {\n",
    "            0 : [(\"T\", 1), (\"P\", 2)],\n",
    "            1 : [(\"S\", 1), (\"X\", 3)],\n",
    "            2 : [(\"T\", 2), (\"V\", 4)],\n",
    "            3 : [(\"X\", 2), (\"S\", 5)],\n",
    "            4 : [(\"P\", 3), (\"V\", 5)]\n",
    "        }\n",
    "\n",
    "        while s != 5 :\n",
    "            if np.random.rand() > 0.5:\n",
    "                next_state = transfer_map[s][0]\n",
    "            else:\n",
    "                next_state = transfer_map[s][1]\n",
    "            r += next_state[0]\n",
    "            s = next_state[1]\n",
    "\n",
    "        r += \"E\"\n",
    "        \n",
    "        # 两侧添加\n",
    "        if np.random.rand() > 0.5:\n",
    "            r = \"BT\" + r + \"TE\"\n",
    "        else:\n",
    "            r = \"BP\" + r + \"PE\"\n",
    "        \n",
    "        if lenth:\n",
    "            if len(r) == lenth:\n",
    "                R.append(r)\n",
    "                N += 1\n",
    "        else:\n",
    "            R.append(r)\n",
    "            N += 1\n",
    "    \n",
    "\n",
    "    \n",
    "    return R\n",
    "\n",
    "train_data = EMBED_REBER(256, 14)\n",
    "print(train_data)"
   ]
  },
  {
   "cell_type": "code",
   "execution_count": 14,
   "metadata": {},
   "outputs": [
    {
     "data": {
      "text/plain": [
       "{'B': 0, 'T': 1, 'P': 2, 'S': 3, 'X': 4, 'V': 5, 'E': 6}"
      ]
     },
     "execution_count": 14,
     "metadata": {},
     "output_type": "execute_result"
    }
   ],
   "source": [
    "char_list = list(\"BTPSXVE\")\n",
    "char_num  = len(char_list)\n",
    "char_map  = {c : char_list.index(c) for c in char_list}\n",
    "char_map"
   ]
  },
  {
   "cell_type": "code",
   "execution_count": 15,
   "metadata": {},
   "outputs": [
    {
     "name": "stdout",
     "output_type": "stream",
     "text": [
      "(tensor([[[1, 0, 0, 0, 0, 0, 0],\n",
      "         [1, 0, 0, 0, 0, 0, 0],\n",
      "         [1, 0, 0, 0, 0, 0, 0],\n",
      "         [1, 0, 0, 0, 0, 0, 0],\n",
      "         [1, 0, 0, 0, 0, 0, 0]],\n",
      "\n",
      "        [[0, 0, 1, 0, 0, 0, 0],\n",
      "         [0, 0, 1, 0, 0, 0, 0],\n",
      "         [0, 1, 0, 0, 0, 0, 0],\n",
      "         [0, 0, 1, 0, 0, 0, 0],\n",
      "         [0, 1, 0, 0, 0, 0, 0]],\n",
      "\n",
      "        [[1, 0, 0, 0, 0, 0, 0],\n",
      "         [1, 0, 0, 0, 0, 0, 0],\n",
      "         [1, 0, 0, 0, 0, 0, 0],\n",
      "         [1, 0, 0, 0, 0, 0, 0],\n",
      "         [1, 0, 0, 0, 0, 0, 0]],\n",
      "\n",
      "        [[0, 0, 1, 0, 0, 0, 0],\n",
      "         [0, 1, 0, 0, 0, 0, 0],\n",
      "         [0, 1, 0, 0, 0, 0, 0],\n",
      "         [0, 1, 0, 0, 0, 0, 0],\n",
      "         [0, 0, 1, 0, 0, 0, 0]],\n",
      "\n",
      "        [[0, 1, 0, 0, 0, 0, 0],\n",
      "         [0, 0, 0, 0, 1, 0, 0],\n",
      "         [0, 0, 0, 1, 0, 0, 0],\n",
      "         [0, 0, 0, 1, 0, 0, 0],\n",
      "         [0, 1, 0, 0, 0, 0, 0]],\n",
      "\n",
      "        [[0, 1, 0, 0, 0, 0, 0],\n",
      "         [0, 0, 0, 0, 1, 0, 0],\n",
      "         [0, 0, 0, 1, 0, 0, 0],\n",
      "         [0, 0, 0, 1, 0, 0, 0],\n",
      "         [0, 1, 0, 0, 0, 0, 0]],\n",
      "\n",
      "        [[0, 0, 0, 0, 0, 1, 0],\n",
      "         [0, 1, 0, 0, 0, 0, 0],\n",
      "         [0, 0, 0, 1, 0, 0, 0],\n",
      "         [0, 0, 0, 1, 0, 0, 0],\n",
      "         [0, 1, 0, 0, 0, 0, 0]],\n",
      "\n",
      "        [[0, 0, 1, 0, 0, 0, 0],\n",
      "         [0, 1, 0, 0, 0, 0, 0],\n",
      "         [0, 0, 0, 0, 1, 0, 0],\n",
      "         [0, 0, 0, 1, 0, 0, 0],\n",
      "         [0, 1, 0, 0, 0, 0, 0]],\n",
      "\n",
      "        [[0, 0, 0, 0, 1, 0, 0],\n",
      "         [0, 0, 0, 0, 0, 1, 0],\n",
      "         [0, 0, 0, 0, 1, 0, 0],\n",
      "         [0, 0, 0, 1, 0, 0, 0],\n",
      "         [0, 0, 0, 0, 0, 1, 0]],\n",
      "\n",
      "        [[0, 0, 0, 0, 0, 1, 0],\n",
      "         [0, 0, 1, 0, 0, 0, 0],\n",
      "         [0, 0, 0, 0, 0, 1, 0],\n",
      "         [0, 0, 0, 0, 1, 0, 0],\n",
      "         [0, 0, 1, 0, 0, 0, 0]],\n",
      "\n",
      "        [[0, 0, 0, 0, 0, 1, 0],\n",
      "         [0, 0, 0, 1, 0, 0, 0],\n",
      "         [0, 0, 0, 0, 0, 1, 0],\n",
      "         [0, 0, 0, 1, 0, 0, 0],\n",
      "         [0, 0, 0, 1, 0, 0, 0]],\n",
      "\n",
      "        [[0, 0, 0, 0, 0, 0, 1],\n",
      "         [0, 0, 0, 0, 0, 0, 1],\n",
      "         [0, 0, 0, 0, 0, 0, 1],\n",
      "         [0, 0, 0, 0, 0, 0, 1],\n",
      "         [0, 0, 0, 0, 0, 0, 1]],\n",
      "\n",
      "        [[0, 0, 1, 0, 0, 0, 0],\n",
      "         [0, 0, 1, 0, 0, 0, 0],\n",
      "         [0, 1, 0, 0, 0, 0, 0],\n",
      "         [0, 0, 1, 0, 0, 0, 0],\n",
      "         [0, 1, 0, 0, 0, 0, 0]]]), tensor([[2, 2, 1, 2, 1],\n",
      "        [0, 0, 0, 0, 0],\n",
      "        [2, 1, 1, 1, 2],\n",
      "        [1, 4, 3, 3, 1],\n",
      "        [1, 4, 3, 3, 1],\n",
      "        [5, 1, 3, 3, 1],\n",
      "        [2, 1, 4, 3, 1],\n",
      "        [4, 5, 4, 3, 5],\n",
      "        [5, 2, 5, 4, 2],\n",
      "        [5, 3, 5, 3, 3],\n",
      "        [6, 6, 6, 6, 6],\n",
      "        [2, 2, 1, 2, 1],\n",
      "        [6, 6, 6, 6, 6]]))\n"
     ]
    }
   ],
   "source": [
    "# 数据生成器，用于读取批量数据\n",
    "# 每个序列的前 L-1 位作为输入，后 L-1个作为监督信号\n",
    "def data_iter(batch_size, data):\n",
    "    # 数据大小\n",
    "    data_num = len(data)\n",
    "    seq_num  = len(data[0])\n",
    "    char_num = 7\n",
    "    # 随机排列\n",
    "    permutation = np.arange(data_num)\n",
    "    np.random.shuffle(permutation)\n",
    "    permutation = permutation.tolist()\n",
    "    # 每次取 batch_size 个\n",
    "    for i in range(0, data_num, batch_size):\n",
    "        # 每个 batch 的下标\n",
    "        indices = permutation[i:i+batch_size]\n",
    "        \n",
    "        # 按照时间顺序变换\n",
    "        batch_n_list = [] # 得到每一个字符对应的数字\n",
    "        batch_n_advisor_list = [] # 监督信号\n",
    "        for j in indices:\n",
    "            # 对batch中下标为j的字符串数字化\n",
    "            n_list = []\n",
    "            for k in data[j]:\n",
    "                # 获取该字符对应的数字\n",
    "                n_list.append(char_map[k])\n",
    "            \n",
    "            batch_n_list.append(n_list[:-1])\n",
    "            batch_n_advisor_list.append(n_list[1:])\n",
    "\n",
    "        # 将其传入one_hot函数，得到(batch*seq*char)的tensor\n",
    "        batch_seq_one_hot = F.one_hot(torch.tensor(batch_n_list), char_num)\n",
    "        \n",
    "        # 改为seq first的tensor，转置前两维\n",
    "        seq_batch_one_hot = batch_seq_one_hot.transpose(0, 1)\n",
    "        \n",
    "        # advisor的tensor(batch*seq*char)\n",
    "        batch_seq_advisor = torch.tensor(batch_n_advisor_list)\n",
    "        seq_batch_advisor = batch_seq_advisor.transpose(0, 1) # 转置\n",
    "        \n",
    "        yield seq_batch_one_hot, seq_batch_advisor\n",
    "    \n",
    "data_iter_ = data_iter(5, train_data)\n",
    "for _ in range(1):\n",
    "    data = next(data_iter_)\n",
    "    print(data)"
   ]
  },
  {
   "cell_type": "code",
   "execution_count": 16,
   "metadata": {},
   "outputs": [],
   "source": [
    "class ReberLSTM(nn.Module):\n",
    "    def __init__(self):\n",
    "        super().__init__()\n",
    "        \n",
    "        # parameters\n",
    "        char_num = 7\n",
    "        \n",
    "        # layers\n",
    "        self.input_hidden_layer = nn.LSTM(input_size=char_num, hidden_size=10, bias=False)\n",
    "        self.output_layer = nn.Linear(in_features=10, out_features=char_num, bias=False)\n",
    "        \n",
    "    def forward(self, input):\n",
    "        hidden_output, h_n = self.input_hidden_layer(input)\n",
    "        output = self.output_layer(hidden_output)\n",
    "        \n",
    "        return output"
   ]
  },
  {
   "cell_type": "code",
   "execution_count": 17,
   "metadata": {},
   "outputs": [
    {
     "name": "stdout",
     "output_type": "stream",
     "text": [
      " for epoch          0 , Loss is 1.9548033475875854\n",
      " for epoch       2000 , Loss is 1.8906290531158447\n",
      " for epoch       4000 , Loss is 1.734405755996704\n",
      " for epoch       6000 , Loss is 1.465674877166748\n",
      " for epoch       8000 , Loss is 1.128794550895691\n",
      " for epoch      10000 , Loss is 0.8521116971969604\n",
      " for epoch      12000 , Loss is 0.684528112411499\n",
      " for epoch      14000 , Loss is 0.5828148126602173\n",
      " for epoch      16000 , Loss is 0.5073099732398987\n",
      " for epoch      18000 , Loss is 0.4440280795097351\n",
      " for epoch      20000 , Loss is 0.4292106330394745\n",
      " for epoch      22000 , Loss is 0.40830039978027344\n",
      " for epoch      24000 , Loss is 0.3769316077232361\n",
      " for epoch      26000 , Loss is 0.3645888566970825\n",
      " for epoch      28000 , Loss is 0.3780266046524048\n",
      " for epoch      30000 , Loss is 0.3557244837284088\n",
      " for epoch      32000 , Loss is 0.3334082067012787\n",
      " for epoch      34000 , Loss is 0.34226587414741516\n",
      " for epoch      36000 , Loss is 0.33130741119384766\n",
      " for epoch      38000 , Loss is 0.32906052470207214\n"
     ]
    }
   ],
   "source": [
    "myNN = ReberLSTM()\n",
    "\n",
    "# 训练阶段\n",
    "epoch_num  = 40000\n",
    "batch_size = 16\n",
    "learning_rate = 1e-3\n",
    "\n",
    "# 生成优化器\n",
    "optimizer = optim.SGD(myNN.parameters(), lr=learning_rate)\n",
    "\n",
    "for epoch in range(epoch_num):\n",
    "    for INPUT, TARGET in data_iter(batch_size, train_data):\n",
    "        # forward\n",
    "        output = myNN(INPUT.float())\n",
    "        Loss = F.cross_entropy(output.reshape(-1, 7), TARGET.reshape(-1))\n",
    "        \n",
    "        # update\n",
    "        optimizer.zero_grad()\n",
    "        Loss.backward()\n",
    "        optimizer.step()\n",
    "\n",
    "    if epoch % 2000 == 0:\n",
    "        print(\" for epoch %10d , Loss is %s\" % (epoch, Loss.item()))"
   ]
  },
  {
   "cell_type": "code",
   "execution_count": 20,
   "metadata": {},
   "outputs": [
    {
     "data": {
      "text/plain": [
       "tensor([[[  0.1752,   5.4207,   5.5639,  -3.7640,  -3.0423,  -1.1156,  -3.6353]],\n",
       "\n",
       "        [[  5.7254,   1.8105,  -0.9432,  -1.4328,   0.0811,  -0.9515,  -3.5621]],\n",
       "\n",
       "        [[ -1.0067,   4.9332,   4.7987,  -0.4179,  -0.5712,  -0.3460,  -7.5094]],\n",
       "\n",
       "        [[  1.5289,  -1.3405,  -1.2662,   5.0093,   4.7933,  -0.1269,  -7.7689]],\n",
       "\n",
       "        [[ -0.8584,   1.5755,  -1.3819,   2.5048,   6.0253,   1.5062,  -8.9626]],\n",
       "\n",
       "        [[ -1.4433,   5.9936,  -0.3196,  -2.2986,   2.7568,   4.8076,  -9.8731]],\n",
       "\n",
       "        [[ -3.2112,   8.3764,   2.3120,  -3.9890,   0.3093,   5.8915, -10.5837]],\n",
       "\n",
       "        [[ -4.8337,   7.0537,   2.1827,  -2.7873,  -0.1197,   6.3740,  -8.8994]],\n",
       "\n",
       "        [[ -9.2790,   1.7478,   9.5693,  -0.9397,  -1.9602,   3.2924,  -3.9688]],\n",
       "\n",
       "        [[ -5.5410,  -3.6882,  -2.6714,   6.3192,   3.0562,   1.5940,   0.9167]],\n",
       "\n",
       "        [[ -4.7384,  -2.5396,   0.7886,   1.1844,  -1.7159,   0.8428,   5.4067]],\n",
       "\n",
       "        [[ -4.9835,   4.5095,   7.1402,  -3.9684,  -5.1194,  -0.3571,   1.7751]],\n",
       "\n",
       "        [[ -1.7598,  -2.8126,  -0.4499,   1.2460,  -1.2755,  -2.3244,   7.6601]]],\n",
       "       grad_fn=<UnsafeViewBackward>)"
      ]
     },
     "execution_count": 20,
     "metadata": {},
     "output_type": "execute_result"
    }
   ],
   "source": [
    "# 预测一个序列\n",
    "seq = 'BPBTXXTTVPSEPE'\n",
    "# 转为 seq_one_hot\n",
    "n_list = []\n",
    "for i in seq:\n",
    "    # 获取该字符对应的数字\n",
    "    n_list.append(char_map[i])\n",
    "seq_one_hot = F.one_hot(torch.tensor(n_list))\n",
    "test_output = myNN(seq_one_hot[:-1].unsqueeze(1).float())\n",
    "test_output"
   ]
  },
  {
   "cell_type": "markdown",
   "metadata": {},
   "source": [
    "当输入第二位是P的时候，倒数第二位的输出是P的概率大。"
   ]
  },
  {
   "cell_type": "code",
   "execution_count": 21,
   "metadata": {},
   "outputs": [
    {
     "data": {
      "text/plain": [
       "tensor([[[ 0.1752,  5.4207,  5.5639, -3.7640, -3.0423, -1.1156, -3.6353]],\n",
       "\n",
       "        [[ 5.6729, -0.3451, -2.7417,  0.4560,  1.0183, -1.3840, -1.6948]],\n",
       "\n",
       "        [[-1.3772,  4.6833,  4.5907, -0.4523, -0.5792, -0.3573, -6.6005]],\n",
       "\n",
       "        [[ 1.6300, -1.7902, -2.1118,  5.2278,  4.8419, -0.3009, -6.6145]],\n",
       "\n",
       "        [[ 0.4648, -3.8128, -3.5149,  7.4675,  6.3972, -1.0131, -5.0394]],\n",
       "\n",
       "        [[-0.5773, -4.6519, -4.9228,  8.5415,  7.7752, -0.8830, -4.3560]],\n",
       "\n",
       "        [[-2.4452, -3.3885, -4.2938,  8.1496,  7.8386, -0.7932, -4.4537]],\n",
       "\n",
       "        [[-4.1047,  1.0638, -3.8039,  3.9245,  5.9701,  2.5496, -5.7881]],\n",
       "\n",
       "        [[-7.3254,  2.3843, -2.7041,  2.2312,  1.7926,  6.4075, -3.8856]],\n",
       "\n",
       "        [[-9.6391, -1.0459,  1.6402,  0.4471, -1.7953,  6.7993,  1.5194]],\n",
       "\n",
       "        [[-4.4682, -3.4255,  0.4139,  1.3988, -1.6978, -0.8825,  7.7974]],\n",
       "\n",
       "        [[-2.8598,  5.7088,  4.7404, -4.2420, -3.6867, -0.8134,  0.4342]],\n",
       "\n",
       "        [[-0.0794, -0.2810, -0.3983, -2.0691, -3.1652, -0.8365,  6.7006]]],\n",
       "       grad_fn=<UnsafeViewBackward>)"
      ]
     },
     "execution_count": 21,
     "metadata": {},
     "output_type": "execute_result"
    }
   ],
   "source": [
    "# 预测一个序列\n",
    "seq = 'BTBTSSSXXVVETE'\n",
    "# 转为 seq_one_hot\n",
    "n_list = []\n",
    "for i in seq:\n",
    "    # 获取该字符对应的数字\n",
    "    n_list.append(char_map[i])\n",
    "seq_one_hot = F.one_hot(torch.tensor(n_list))\n",
    "test_output = myNN(seq_one_hot[:-1].unsqueeze(1).float())\n",
    "test_output"
   ]
  },
  {
   "cell_type": "markdown",
   "metadata": {},
   "source": [
    "当输入第二位是T的时候，倒数第二位的输出是T的概率大。"
   ]
  },
  {
   "cell_type": "code",
   "execution_count": null,
   "metadata": {},
   "outputs": [],
   "source": []
  }
 ],
 "metadata": {
  "kernelspec": {
   "display_name": "Python 3",
   "language": "python",
   "name": "python3"
  },
  "language_info": {
   "codemirror_mode": {
    "name": "ipython",
    "version": 3
   },
   "file_extension": ".py",
   "mimetype": "text/x-python",
   "name": "python",
   "nbconvert_exporter": "python",
   "pygments_lexer": "ipython3",
   "version": "3.7.4"
  }
 },
 "nbformat": 4,
 "nbformat_minor": 4
}
