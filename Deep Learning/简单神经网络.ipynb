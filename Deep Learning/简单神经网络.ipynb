{
 "cells": [
  {
   "cell_type": "code",
   "execution_count": 5,
   "metadata": {},
   "outputs": [],
   "source": [
    "import numpy as np"
   ]
  },
  {
   "cell_type": "code",
   "execution_count": 25,
   "metadata": {},
   "outputs": [
    {
     "data": {
      "text/plain": [
       "array([list([[0.0976270078546495, 0.43037873274483895, 0.20552675214328775, 0.08976636599379373], [-0.15269040132219058, 0.29178822613331223, -0.12482557747461498, 0.7835460015641595]]),\n",
       "       list([0.9273255210020586, -0.2331169623484446, 0.5834500761653292])],\n",
       "      dtype=object)"
      ]
     },
     "execution_count": 25,
     "metadata": {},
     "output_type": "execute_result"
    }
   ],
   "source": [
    "# 神经网络形状[num, num, num...]\n",
    "# 由于是线性回归问题，最后一层始终为1\n",
    "# 每层中包含一个bias，也算在shape中\n",
    "shape = [4, 3]\n",
    "\n",
    "# 根据shape数组生成权重数组，随机取自[-1, 1]\n",
    "np.random.seed(0)\n",
    "W = []\n",
    "for i in range(len(shape)-1):\n",
    "    W_i = []\n",
    "    for j in range(shape[i+1]-1):\n",
    "        W_i_j = []\n",
    "        for _ in range(shape[i]):\n",
    "            W_i_j.append(np.random.uniform(-1, 1))\n",
    "        W_i.append(W_i_j)\n",
    "    W.append(W_i)\n",
    "\n",
    "W_i = []\n",
    "for _ in range(shape[-1]):\n",
    "    W_i.append(np.random.uniform(-1, 1))\n",
    "W.append(W_i)\n",
    "W = np.array(W)\n",
    "W"
   ]
  },
  {
   "cell_type": "code",
   "execution_count": 7,
   "metadata": {},
   "outputs": [
    {
     "data": {
      "text/plain": [
       "(array([[  4,   7,  -5],\n",
       "        [  3,  -2,  -1],\n",
       "        [  9,   6,   9],\n",
       "        [ -5,   5,   5],\n",
       "        [-10,   8,  -7]]), array([7, 9, 9, 9, 4]), array([[[None, None]],\n",
       " \n",
       "        [[None, None]],\n",
       " \n",
       "        [[None, None]],\n",
       " \n",
       "        [[None, None]],\n",
       " \n",
       "        [[None, None]]], dtype=object))"
      ]
     },
     "execution_count": 7,
     "metadata": {},
     "output_type": "execute_result"
    }
   ],
   "source": [
    "# 生成数据 (x1, x2. x3, y)\n",
    "point_num  = 5\n",
    "scope = 10\n",
    "\n",
    "X = np.array([[np.random.randint(-scope, scope) for _ in range(shape[0]-1)] for _ in range(point_num)])\n",
    "Y = np.array([np.random.randint(-scope, scope) for _ in range(point_num)])\n",
    "\n",
    "# 数据数 * 每一隐藏层 * 层神经元\n",
    "Z = np.array([[[None for _ in range(shape[i]-1)] for i in range(1, len(shape))] for _ in range(point_num)]) \n",
    "\n",
    "X, Y, Z"
   ]
  },
  {
   "cell_type": "code",
   "execution_count": 32,
   "metadata": {},
   "outputs": [
    {
     "data": {
      "text/plain": [
       "array([[[2.465291765909825, 2.839429866581658]],\n",
       "\n",
       "       [[-0.6836368280752234, -0.1332760771944217]],\n",
       "\n",
       "       [[5.400422602444262, 0.036631549192782886]],\n",
       "\n",
       "       [[2.78115875116118, 2.3818112514685987]],\n",
       "\n",
       "       [[1.117838884402996, 5.5185348661748685]]], dtype=object)"
      ]
     },
     "execution_count": 32,
     "metadata": {},
     "output_type": "execute_result"
    }
   ],
   "source": [
    "# 批量梯度下降 BGD\n",
    "epoch = 1\n",
    "\n",
    "while epoch < 10:\n",
    "    for i in range(point_num):\n",
    "        # 前向传播，计算Z\n",
    "        x = X[i]\n",
    "        for j in range(len(Z[i])):# layer\n",
    "            x = np.append(x, 1)\n",
    "            for k in range(len(Z[i, j])):\n",
    "                Z[i, j, k] = np.dot(x, W[j][k])\n",
    "            x = Z[i, j]\n",
    "            \n",
    "        # 反向传播，梯度下降\n",
    "        \n",
    "    epoch += 1\n"
   ]
  },
  {
   "cell_type": "code",
   "execution_count": 29,
   "metadata": {},
   "outputs": [
    {
     "data": {
      "text/plain": [
       "[0.0976270078546495,\n",
       " 0.43037873274483895,\n",
       " 0.20552675214328775,\n",
       " 0.08976636599379373]"
      ]
     },
     "execution_count": 29,
     "metadata": {},
     "output_type": "execute_result"
    }
   ],
   "source": [
    "W[0][0]"
   ]
  },
  {
   "cell_type": "code",
   "execution_count": null,
   "metadata": {},
   "outputs": [],
   "source": []
  }
 ],
 "metadata": {
  "kernelspec": {
   "display_name": "Python 3",
   "language": "python",
   "name": "python3"
  },
  "language_info": {
   "codemirror_mode": {
    "name": "ipython",
    "version": 3
   },
   "file_extension": ".py",
   "mimetype": "text/x-python",
   "name": "python",
   "nbconvert_exporter": "python",
   "pygments_lexer": "ipython3",
   "version": "3.7.1"
  }
 },
 "nbformat": 4,
 "nbformat_minor": 2
}
