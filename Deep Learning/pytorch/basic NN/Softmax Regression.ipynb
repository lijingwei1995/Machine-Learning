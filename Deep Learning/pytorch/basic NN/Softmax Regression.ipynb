{
 "cells": [
  {
   "cell_type": "code",
   "execution_count": 19,
   "metadata": {},
   "outputs": [
    {
     "data": {
      "text/plain": [
       "<torch._C.Generator at 0x61464d0>"
      ]
     },
     "execution_count": 19,
     "metadata": {},
     "output_type": "execute_result"
    }
   ],
   "source": [
    "import torch\n",
    "\n",
    "torch.manual_seed(0)"
   ]
  },
  {
   "cell_type": "markdown",
   "metadata": {},
   "source": [
    "# 用pytorch内置函数实现softmax回归"
   ]
  },
  {
   "cell_type": "code",
   "execution_count": 20,
   "metadata": {},
   "outputs": [
    {
     "data": {
      "text/html": [
       "<div>\n",
       "<style scoped>\n",
       "    .dataframe tbody tr th:only-of-type {\n",
       "        vertical-align: middle;\n",
       "    }\n",
       "\n",
       "    .dataframe tbody tr th {\n",
       "        vertical-align: top;\n",
       "    }\n",
       "\n",
       "    .dataframe thead th {\n",
       "        text-align: right;\n",
       "    }\n",
       "</style>\n",
       "<table border=\"1\" class=\"dataframe\">\n",
       "  <thead>\n",
       "    <tr style=\"text-align: right;\">\n",
       "      <th></th>\n",
       "      <th>Id</th>\n",
       "      <th>SepalLengthCm</th>\n",
       "      <th>SepalWidthCm</th>\n",
       "      <th>PetalLengthCm</th>\n",
       "      <th>PetalWidthCm</th>\n",
       "      <th>Species</th>\n",
       "    </tr>\n",
       "  </thead>\n",
       "  <tbody>\n",
       "    <tr>\n",
       "      <th>0</th>\n",
       "      <td>1</td>\n",
       "      <td>5.1</td>\n",
       "      <td>3.5</td>\n",
       "      <td>1.4</td>\n",
       "      <td>0.2</td>\n",
       "      <td>Iris-setosa</td>\n",
       "    </tr>\n",
       "    <tr>\n",
       "      <th>1</th>\n",
       "      <td>2</td>\n",
       "      <td>4.9</td>\n",
       "      <td>3.0</td>\n",
       "      <td>1.4</td>\n",
       "      <td>0.2</td>\n",
       "      <td>Iris-setosa</td>\n",
       "    </tr>\n",
       "    <tr>\n",
       "      <th>2</th>\n",
       "      <td>3</td>\n",
       "      <td>4.7</td>\n",
       "      <td>3.2</td>\n",
       "      <td>1.3</td>\n",
       "      <td>0.2</td>\n",
       "      <td>Iris-setosa</td>\n",
       "    </tr>\n",
       "    <tr>\n",
       "      <th>3</th>\n",
       "      <td>4</td>\n",
       "      <td>4.6</td>\n",
       "      <td>3.1</td>\n",
       "      <td>1.5</td>\n",
       "      <td>0.2</td>\n",
       "      <td>Iris-setosa</td>\n",
       "    </tr>\n",
       "    <tr>\n",
       "      <th>4</th>\n",
       "      <td>5</td>\n",
       "      <td>5.0</td>\n",
       "      <td>3.6</td>\n",
       "      <td>1.4</td>\n",
       "      <td>0.2</td>\n",
       "      <td>Iris-setosa</td>\n",
       "    </tr>\n",
       "  </tbody>\n",
       "</table>\n",
       "</div>"
      ],
      "text/plain": [
       "   Id  SepalLengthCm  SepalWidthCm  PetalLengthCm  PetalWidthCm      Species\n",
       "0   1            5.1           3.5            1.4           0.2  Iris-setosa\n",
       "1   2            4.9           3.0            1.4           0.2  Iris-setosa\n",
       "2   3            4.7           3.2            1.3           0.2  Iris-setosa\n",
       "3   4            4.6           3.1            1.5           0.2  Iris-setosa\n",
       "4   5            5.0           3.6            1.4           0.2  Iris-setosa"
      ]
     },
     "execution_count": 20,
     "metadata": {},
     "output_type": "execute_result"
    }
   ],
   "source": [
    "import pandas as pd\n",
    "\n",
    "table = pd.read_csv(\"Iris.csv\")\n",
    "table.head()"
   ]
  },
  {
   "cell_type": "code",
   "execution_count": 21,
   "metadata": {},
   "outputs": [
    {
     "name": "stdout",
     "output_type": "stream",
     "text": [
      "tensor([[5.1000, 3.8000, 1.9000, 0.4000, 0.0000],\n",
      "        [6.5000, 2.8000, 4.6000, 1.5000, 1.0000],\n",
      "        [5.7000, 3.0000, 4.2000, 1.2000, 1.0000],\n",
      "        [6.6000, 3.0000, 4.4000, 1.4000, 1.0000],\n",
      "        [5.0000, 3.2000, 1.2000, 0.2000, 0.0000]])\n",
      "tensor([[5.6000, 2.5000, 3.9000, 1.1000, 1.0000],\n",
      "        [5.6000, 2.8000, 4.9000, 2.0000, 2.0000],\n",
      "        [5.4000, 3.0000, 4.5000, 1.5000, 1.0000],\n",
      "        [5.0000, 3.3000, 1.4000, 0.2000, 0.0000],\n",
      "        [6.7000, 2.5000, 5.8000, 1.8000, 2.0000]])\n",
      "tensor([[7.9000, 3.8000, 6.4000, 2.0000, 2.0000],\n",
      "        [6.7000, 3.3000, 5.7000, 2.1000, 2.0000],\n",
      "        [6.0000, 2.9000, 4.5000, 1.5000, 1.0000],\n",
      "        [6.1000, 2.8000, 4.7000, 1.2000, 1.0000],\n",
      "        [4.8000, 3.4000, 1.6000, 0.2000, 0.0000]])\n",
      "tensor([[5.0000, 3.4000, 1.6000, 0.4000, 0.0000],\n",
      "        [7.4000, 2.8000, 6.1000, 1.9000, 2.0000],\n",
      "        [4.6000, 3.2000, 1.4000, 0.2000, 0.0000],\n",
      "        [6.5000, 3.0000, 5.5000, 1.8000, 2.0000],\n",
      "        [4.7000, 3.2000, 1.6000, 0.2000, 0.0000]])\n"
     ]
    }
   ],
   "source": [
    "# 数据生成器，用于读取批量数据\n",
    "def data_iter(batch_size):\n",
    "    # 变更类别\n",
    "    cate_list = table[\"Species\"].unique().tolist()\n",
    "    table[\"Species\"] = table[\"Species\"].apply(cate_list.index)\n",
    "    # 赋值给 tensor\n",
    "    data = torch.from_numpy(table.iloc[:, 1:].to_numpy()).float()\n",
    "    # 数据大小\n",
    "    data_num = len(data)\n",
    "    # 随机排列\n",
    "    permutation = torch.randperm(data_num)\n",
    "    # 每次取 batch_size 个\n",
    "    for i in range(0, data_num, batch_size):\n",
    "        # 每个 batch 的下标\n",
    "        indices = permutation[i:i+batch_size]\n",
    "        yield data[indices]\n",
    "    \n",
    "data_iter_ = data_iter(5)\n",
    "for _ in range(4):\n",
    "    data = next(data_iter_)\n",
    "    print(data)"
   ]
  },
  {
   "cell_type": "code",
   "execution_count": 22,
   "metadata": {},
   "outputs": [
    {
     "name": "stdout",
     "output_type": "stream",
     "text": [
      " for epoch 0\t\t, Loss is 4.782564640045166\n",
      " W_1: tensor([[ 1.1979, -0.5969,  0.1304,  0.5001,  0.6529],\n",
      "        [-0.6836,  0.2893,  1.2486,  1.1348,  0.3838],\n",
      "        [-0.0609, -0.9244, -1.1184,  0.4075,  0.3884]], requires_grad=True)\n",
      " W_2: tensor([[ 1.5594,  0.1994,  0.5242],\n",
      "        [-0.4528,  0.3303,  0.7661],\n",
      "        [ 1.4765,  0.8151,  1.5559]], requires_grad=True)\n",
      " for epoch 5000\t\t, Loss is 0.0012300316011533141\n",
      " W_1: tensor([[ 0.2108, -0.6092, -0.2826,  0.6838,  0.0131],\n",
      "        [-1.4535, -0.8793,  2.7610,  2.1711, -0.7092],\n",
      "        [-0.5952, -1.2369, -0.6754,  0.8661, -0.2050]], requires_grad=True)\n",
      " W_2: tensor([[ 1.1609e+00, -1.7753e+00,  6.5427e-01],\n",
      "        [ 4.6162e-02,  2.7937e-03,  3.3041e-01],\n",
      "        [ 1.3759e+00,  3.1172e+00,  1.8614e+00]], requires_grad=True)\n",
      " for epoch 10000\t\t, Loss is 0.0013536904007196426\n",
      " W_1: tensor([[ 0.2204, -0.5824, -0.3315,  0.7056, -0.2573],\n",
      "        [-1.3973, -0.9261,  2.8365,  2.3168, -1.3660],\n",
      "        [-0.5632, -1.2226, -0.6813,  0.9153, -0.5245]], requires_grad=True)\n",
      " W_2: tensor([[ 1.1434, -1.9570,  0.6416],\n",
      "        [ 0.0240, -0.0503,  0.2617],\n",
      "        [ 1.4155,  3.3520,  1.9428]], requires_grad=True)\n",
      " for epoch 15000\t\t, Loss is 0.140903040766716\n",
      " W_1: tensor([[ 0.2603, -0.5370, -0.3839,  0.7088, -0.4657],\n",
      "        [-1.3110, -0.9008,  2.8084,  2.3763, -1.8788],\n",
      "        [-0.5052, -1.1798, -0.7148,  0.9330, -0.7770]], requires_grad=True)\n",
      " W_2: tensor([[ 1.1333, -2.0664,  0.6253],\n",
      "        [-0.0194, -0.0721,  0.2074],\n",
      "        [ 1.4691,  3.4832,  2.0133]], requires_grad=True)\n"
     ]
    }
   ],
   "source": [
    "import torch.optim as optim\n",
    "import torch.nn.functional as F\n",
    "\n",
    "# 参数初始化\n",
    "W_1 = torch.randn(3, 5, requires_grad=True)\n",
    "W_2 = torch.randn(3, 3, requires_grad=True)\n",
    "\n",
    "# 训练阶段\n",
    "epoch_num  = 20000\n",
    "batch_size = 8\n",
    "learning_rate = 1e-3\n",
    "\n",
    "# 生成优化器\n",
    "optimizer = optim.SGD([W_1, W_2], lr=learning_rate)\n",
    "\n",
    "for epoch in range(epoch_num):\n",
    "    for data in data_iter(batch_size):\n",
    "        # forward\n",
    "        X = torch.cat((data[:, :-1], torch.ones(data.size()[0], 1)), 1)\n",
    "        X = X.unsqueeze(2)\n",
    "        Z = W_1.matmul(X)\n",
    "        Y = W_2.matmul(Z)\n",
    "        Y = Y.squeeze(2)\n",
    "        Loss = F.cross_entropy(Y, data[:, -1].long())\n",
    "        \n",
    "        # update\n",
    "        optimizer.zero_grad()\n",
    "        Loss.backward()\n",
    "        optimizer.step()\n",
    "\n",
    "    if epoch % 5000 == 0:\n",
    "        print(\" for epoch %d\\t\\t, Loss is %s\" % (epoch, Loss.item()))\n",
    "        print(\" W_1: %s\" % (W_1))\n",
    "        print(\" W_2: %s\" % (W_2))\n"
   ]
  },
  {
   "cell_type": "code",
   "execution_count": 23,
   "metadata": {},
   "outputs": [
    {
     "name": "stdout",
     "output_type": "stream",
     "text": [
      "correct: 147 / 150\n"
     ]
    }
   ],
   "source": [
    "# 测试\n",
    "total_num   = 0\n",
    "correct_num = 0\n",
    "\n",
    "with torch.no_grad():\n",
    "    for data in data_iter(1):\n",
    "        total_num += 1\n",
    "        \n",
    "        # forward\n",
    "        X = torch.cat((data[:, :-1], torch.ones(data.size()[0], 1)), 1)\n",
    "        X = X.unsqueeze(2)\n",
    "        Z = W_1.matmul(X)\n",
    "        Y = W_2.matmul(Z)\n",
    "        Y = Y.squeeze(2)\n",
    "        \n",
    "        if Y.argmax() == data[0, -1]:\n",
    "            correct_num += 1\n",
    "\n",
    "    print(\"correct: %d / %d\" % (correct_num, total_num))"
   ]
  },
  {
   "cell_type": "code",
   "execution_count": null,
   "metadata": {},
   "outputs": [],
   "source": []
  }
 ],
 "metadata": {
  "kernelspec": {
   "display_name": "Python 3",
   "language": "python",
   "name": "python3"
  },
  "language_info": {
   "codemirror_mode": {
    "name": "ipython",
    "version": 3
   },
   "file_extension": ".py",
   "mimetype": "text/x-python",
   "name": "python",
   "nbconvert_exporter": "python",
   "pygments_lexer": "ipython3",
   "version": "3.7.4"
  }
 },
 "nbformat": 4,
 "nbformat_minor": 4
}
