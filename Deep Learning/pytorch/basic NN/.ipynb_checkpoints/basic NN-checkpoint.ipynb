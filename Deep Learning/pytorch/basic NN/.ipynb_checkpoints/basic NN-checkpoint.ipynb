{
 "cells": [
  {
   "cell_type": "code",
   "execution_count": 25,
   "metadata": {},
   "outputs": [],
   "source": [
    "import torch\n"
   ]
  },
  {
   "cell_type": "markdown",
   "metadata": {},
   "source": [
    "# tensor，叶子节点"
   ]
  },
  {
   "cell_type": "code",
   "execution_count": 31,
   "metadata": {},
   "outputs": [
    {
     "name": "stdout",
     "output_type": "stream",
     "text": [
      " X: \ttensor([2., 2., 1., 4.]) \n",
      " W_1: \ttensor([[2., 1., 0., 2.],\n",
      "        [1., 2., 4., 4.]], requires_grad=True) \n",
      " Z: \ttensor([14., 26.], grad_fn=<SqueezeBackward3>) \n",
      " W_2: \ttensor([0., 3.], requires_grad=True) \n",
      " Y: \ttensor(78., grad_fn=<DotBackward>) \n",
      "\n"
     ]
    }
   ],
   "source": [
    "# 为了方便，随机创建一些int型的tensor，然后将它们转换为float型\n",
    "X   = torch.randint(5, (4,)  ).float().requires_grad_(False)\n",
    "W_1 = torch.randint(5, (2, 4)).float().requires_grad_(True)\n",
    "Z   = X.matmul(W_1.T)\n",
    "W_2 = torch.randint(5, (2,)  ).float().requires_grad_(True)\n",
    "Y   = Z.matmul(W_2)\n",
    "\n",
    "print(\" X: \\t%s \\n W_1: \\t%s \\n Z: \\t%s \\n W_2: \\t%s \\n Y: \\t%s \\n\" % (X, W_1, Z, W_2, Y))"
   ]
  },
  {
   "cell_type": "code",
   "execution_count": 36,
   "metadata": {},
   "outputs": [
    {
     "name": "stdout",
     "output_type": "stream",
     "text": [
      " is leaf?\n",
      " X: \tTrue \n",
      " W_1: \tTrue \n",
      " Z: \tFalse \n",
      " W_2: \tTrue \n",
      " Y: \tFalse \n",
      "\n"
     ]
    }
   ],
   "source": [
    "print(\" is leaf?\")\n",
    "print(\" X: \\t%s \\n W_1: \\t%s \\n Z: \\t%s \\n W_2: \\t%s \\n Y: \\t%s \\n\" % (X.is_leaf, W_1.is_leaf, Z.is_leaf, W_2.is_leaf, Y.is_leaf))"
   ]
  },
  {
   "cell_type": "code",
   "execution_count": null,
   "metadata": {},
   "outputs": [],
   "source": []
  }
 ],
 "metadata": {
  "kernelspec": {
   "display_name": "Python 3",
   "language": "python",
   "name": "python3"
  },
  "language_info": {
   "codemirror_mode": {
    "name": "ipython",
    "version": 3
   },
   "file_extension": ".py",
   "mimetype": "text/x-python",
   "name": "python",
   "nbconvert_exporter": "python",
   "pygments_lexer": "ipython3",
   "version": "3.7.1"
  }
 },
 "nbformat": 4,
 "nbformat_minor": 2
}
