{
 "cells": [
  {
   "cell_type": "code",
   "execution_count": 30,
   "metadata": {},
   "outputs": [
    {
     "data": {
      "text/plain": [
       "<torch._C.Generator at 0x5b654d0>"
      ]
     },
     "execution_count": 30,
     "metadata": {},
     "output_type": "execute_result"
    }
   ],
   "source": [
    "import torch\n",
    "\n",
    "torch.manual_seed(0)"
   ]
  },
  {
   "cell_type": "markdown",
   "metadata": {},
   "source": [
    "# tensor，叶子节点"
   ]
  },
  {
   "cell_type": "code",
   "execution_count": 31,
   "metadata": {},
   "outputs": [
    {
     "name": "stdout",
     "output_type": "stream",
     "text": [
      " X: \ttensor([4., 4., 3., 0.]) \n",
      " W_1: \ttensor([[3., 4., 2., 3.],\n",
      "        [2., 3., 1., 1.]], requires_grad=True) \n",
      " Z: \ttensor([34., 23.], grad_fn=<MvBackward>) \n",
      " W_2: \ttensor([1., 4.], requires_grad=True) \n",
      " Y: \ttensor(126., grad_fn=<DotBackward>) \n",
      "\n"
     ]
    }
   ],
   "source": [
    "# 为了方便，随机创建一些int型的tensor，然后将它们转换为float型\n",
    "X   = torch.randint(5, (4,)  ).float().requires_grad_(False)\n",
    "W_1 = torch.randint(5, (2, 4)).float().requires_grad_(True)\n",
    "Z   = W_1.matmul(X)\n",
    "W_2 = torch.randint(5, (2,)  ).float().requires_grad_(True)\n",
    "Y   = W_2.matmul(Z)\n",
    "\n",
    "print(\" X: \\t%s \\n W_1: \\t%s \\n Z: \\t%s \\n W_2: \\t%s \\n Y: \\t%s \\n\" % (X, W_1, Z, W_2, Y))"
   ]
  },
  {
   "cell_type": "code",
   "execution_count": 32,
   "metadata": {},
   "outputs": [
    {
     "name": "stdout",
     "output_type": "stream",
     "text": [
      " is leaf?\n",
      " X: \tTrue \n",
      " W_1: \tTrue \n",
      " Z: \tFalse \n",
      " W_2: \tTrue \n",
      " Y: \tFalse \n",
      "\n"
     ]
    }
   ],
   "source": [
    "print(\" is leaf?\")\n",
    "print(\" X: \\t%s \\n W_1: \\t%s \\n Z: \\t%s \\n W_2: \\t%s \\n Y: \\t%s \\n\" % (X.is_leaf, W_1.is_leaf, Z.is_leaf, W_2.is_leaf, Y.is_leaf))"
   ]
  },
  {
   "cell_type": "markdown",
   "metadata": {},
   "source": [
    "# 梯度，反向传播"
   ]
  },
  {
   "cell_type": "code",
   "execution_count": 33,
   "metadata": {},
   "outputs": [
    {
     "name": "stdout",
     "output_type": "stream",
     "text": [
      " grad\n",
      " X: \tNone \n",
      " W_1: \ttensor([[ 4.,  4.,  3.,  0.],\n",
      "        [16., 16., 12.,  0.]]) \n",
      " Z: \tNone \n",
      " W_2: \ttensor([34., 23.]) \n",
      " Y: \tNone \n",
      "\n"
     ]
    }
   ],
   "source": [
    "Y.backward()\n",
    "print(\" grad\")\n",
    "print(\" X: \\t%s \\n W_1: \\t%s \\n Z: \\t%s \\n W_2: \\t%s \\n Y: \\t%s \\n\" % (X.grad, W_1.grad, Z.grad, W_2.grad, Y.grad))"
   ]
  },
  {
   "cell_type": "markdown",
   "metadata": {},
   "source": [
    "# 梯度累积"
   ]
  },
  {
   "cell_type": "code",
   "execution_count": 34,
   "metadata": {},
   "outputs": [
    {
     "name": "stdout",
     "output_type": "stream",
     "text": [
      " grad2\n",
      " Z: \tNone \n",
      " W_2: \ttensor([68., 46.]) \n",
      "\n"
     ]
    }
   ],
   "source": [
    "Z.detach_()\n",
    "W_2.detach_().requires_grad_(True)\n",
    "\n",
    "Z_2 = W_2.matmul(Z)\n",
    "Z_2.backward()\n",
    "\n",
    "print(\" grad2\")\n",
    "print(\" Z: \\t%s \\n W_2: \\t%s \\n\" % (Z.grad, W_2.grad))\n",
    "\n",
    "# 可以发现detach_()以后require_grad信息被清除\n",
    "# 但是grad还保留，第二次反向传播后，两次的grad累积了起来"
   ]
  },
  {
   "cell_type": "markdown",
   "metadata": {},
   "source": [
    "# 参数更新"
   ]
  },
  {
   "cell_type": "code",
   "execution_count": 35,
   "metadata": {},
   "outputs": [
    {
     "name": "stdout",
     "output_type": "stream",
     "text": [
      " X: \ttensor([3., 1., 1., 3.]) \n",
      " W_1: \ttensor([[4., 3., 1., 4.],\n",
      "        [1., 4., 4., 1.]], requires_grad=True) \n",
      " W_2: \ttensor([4., 4.], requires_grad=True) \n",
      "\n",
      " ====================================\n",
      " for epoch 0, Y is tensor(168.)\n",
      " for epoch 1, Y is tensor(152.1360)\n",
      " for epoch 2, Y is tensor(137.5519)\n",
      " for epoch 3, Y is tensor(124.1259)\n",
      " for epoch 4, Y is tensor(111.7461)\n",
      " for epoch 5, Y is tensor(100.3092)\n",
      " for epoch 6, Y is tensor(89.7202)\n",
      " for epoch 7, Y is tensor(79.8908)\n",
      " for epoch 8, Y is tensor(70.7396)\n",
      " for epoch 9, Y is tensor(62.1905)\n"
     ]
    }
   ],
   "source": [
    "# 前向传播，参数是所有的叶子节点，后面的是参数\n",
    "def forward(X, W_1, W_2):\n",
    "    Z = W_1.matmul(X)\n",
    "    Y = W_2.matmul(Z)\n",
    "    return Y\n",
    "\n",
    "# 初始化\n",
    "X   = torch.randint(5, (4,)  ).float().requires_grad_(False)\n",
    "W_1 = torch.randint(5, (2, 4)).float().requires_grad_(True)\n",
    "W_2 = torch.randint(5, (2,)  ).float().requires_grad_(True)\n",
    "\n",
    "learning_rate = 0.01\n",
    "\n",
    "print(\" X: \\t%s \\n W_1: \\t%s \\n W_2: \\t%s \\n\" % (X, W_1, W_2))\n",
    "print(\" ====================================\")\n",
    "\n",
    "# 更新模块\n",
    "for epoch in range(10):\n",
    "    # 梯度清零\n",
    "    if W_1.grad is not None:\n",
    "        W_1.grad.zero_()\n",
    "    if W_2.grad is not None:\n",
    "        W_2.grad.zero_()\n",
    "    \n",
    "    # 前向传播\n",
    "    Y = forward(X, W_1, W_2)\n",
    "    \n",
    "    # 反向传播\n",
    "    Y.backward()\n",
    "    \n",
    "    # 参数更新（数据域）\n",
    "    W_1 = W_1 - learning_rate * W_1.grad\n",
    "    W_2 = W_2 - learning_rate * W_2.grad\n",
    "    \n",
    "    # 脱离计算图（参数更新过程中产生的）\n",
    "    W_1.detach_().requires_grad_(True)\n",
    "    W_2.detach_().requires_grad_(True)\n",
    "    \n",
    "    print(\" for epoch %d, Y is %s\" % (epoch, Y.data))"
   ]
  },
  {
   "cell_type": "markdown",
   "metadata": {},
   "source": [
    "# 线性回归模型"
   ]
  },
  {
   "cell_type": "code",
   "execution_count": 36,
   "metadata": {},
   "outputs": [
    {
     "name": "stdout",
     "output_type": "stream",
     "text": [
      " a: tensor([2]) \n",
      " b: tensor([1])\n",
      " \n",
      " top 5 datas:\n",
      " x \t: tensor([15.2550, 46.6000,  8.7955, 13.4917,  7.5340]) \n",
      " noise \t: tensor([-0.0933,  0.6871, -0.8383,  0.0009,  0.8419]) \n",
      " y \t: tensor([31.4167, 94.8871, 17.7527, 27.9842, 16.9099]) \n",
      "\n"
     ]
    }
   ],
   "source": [
    "# 数据生成\n",
    "# 直线的真实 a 和 b\n",
    "a, b = torch.randint(1, 5, (1, )), torch.randint(1, 5, (1, ))\n",
    "print(\" a: %s \\n b: %s\" % (a, b))\n",
    "# 生成 x\n",
    "x = torch.rand((50, )) * 50\n",
    "# 生成噪声\n",
    "noise = torch.randn((50, ))\n",
    "# 计算 y\n",
    "y = a * x + b + noise\n",
    "\n",
    "print(\" \\n top 5 datas:\")\n",
    "print(\" x \\t: %s \\n noise \\t: %s \\n y \\t: %s \\n\" % (x[0:5], noise[0:5], y[0:5]))"
   ]
  },
  {
   "cell_type": "code",
   "execution_count": 37,
   "metadata": {},
   "outputs": [
    {
     "data": {
      "image/png": "[encoded data removed]",
      "text/plain": [
       "<Figure size 432x288 with 1 Axes>"
      ]
     },
     "metadata": {
      "needs_background": "light"
     },
     "output_type": "display_data"
    }
   ],
   "source": [
    "# 根据数据点画图\n",
    "import matplotlib.pyplot as plt\n",
    "\n",
    "plt.scatter(x, y, 1)\n",
    "plt.show()"
   ]
  },
  {
   "cell_type": "code",
   "execution_count": 38,
   "metadata": {},
   "outputs": [],
   "source": [
    "# 数据生成器，用于读取批量数据\n",
    "def data_iter(batch_size, x, y):\n",
    "    # 数据大小\n",
    "    data_num = len(x)\n",
    "    # 随机排列\n",
    "    permutation = torch.randperm(data_num)\n",
    "    # 每次取 batch_size 个\n",
    "    for i in range(0, data_num, batch_size):\n",
    "        # 每个 batch 的下标\n",
    "        indices = permutation[i:i+batch_size]\n",
    "        yield x[indices], y[indices]"
   ]
  },
  {
   "cell_type": "code",
   "execution_count": 39,
   "metadata": {},
   "outputs": [
    {
     "name": "stdout",
     "output_type": "stream",
     "text": [
      " target  A: 2.000000, B: 1.000000\n",
      " initial A: 0.840453, B: 0.496759\n",
      " ====================================\n",
      " for epoch 0\t, Loss is 0.22005189955234528\t A: 2.010662, B: 0.531466\n",
      " for epoch 500\t, Loss is 0.09574466943740845\t A: 1.973767, B: 0.947333\n",
      " for epoch 1000\t, Loss is 0.03607318550348282\t A: 1.985599, B: 1.134936\n",
      " for epoch 1500\t, Loss is 2.4995505809783936\t A: 1.990436, B: 1.220327\n",
      " for epoch 2000\t, Loss is 0.23648767173290253\t A: 1.981476, B: 1.259384\n",
      " for epoch 2500\t, Loss is 0.03790779411792755\t A: 1.974543, B: 1.276665\n",
      " for epoch 3000\t, Loss is 0.6223516464233398\t A: 1.994190, B: 1.285105\n",
      " for epoch 3500\t, Loss is 0.239980548620224\t A: 1.986317, B: 1.287909\n",
      " for epoch 4000\t, Loss is 0.667565107345581\t A: 1.998233, B: 1.291380\n",
      " for epoch 4500\t, Loss is 0.466873437166214\t A: 1.959629, B: 1.289387\n",
      " for epoch 5000\t, Loss is 0.9469639658927917\t A: 1.980472, B: 1.288054\n"
     ]
    }
   ],
   "source": [
    "# 参数初始化\n",
    "A, B = torch.rand(1, requires_grad=True), torch.rand(1, requires_grad=True)\n",
    "print(\" target  A: %f, B: %f\" % (a, b))\n",
    "print(\" initial A: %f, B: %f\" % (A, B))\n",
    "print(\" ====================================\")\n",
    "# 训练阶段\n",
    "epoch_num  = 5001\n",
    "batch_size = 8\n",
    "learning_rate = 0.001\n",
    "\n",
    "for epoch in range(epoch_num):\n",
    "    for X, Y in data_iter(batch_size, x, y):\n",
    "\n",
    "        # 前向传播，计算损失\n",
    "        Loss = ((A * X + B - Y) ** 2 / 2).sum()\n",
    "\n",
    "        # 反向传播\n",
    "        Loss.backward()\n",
    "\n",
    "        # 更新参数\n",
    "        A = (A - A.grad * learning_rate / batch_size).detach_().requires_grad_()\n",
    "        B = (B - B.grad * learning_rate / batch_size).detach_().requires_grad_()\n",
    "\n",
    "    if epoch % 500 == 0:\n",
    "        print(\" for epoch %d\\t, Loss is %s\" % (epoch, Loss.item()), end='\\t')\n",
    "        print(\" A: %f, B: %f\" % (A.item(), B.item()))"
   ]
  },
  {
   "cell_type": "code",
   "execution_count": null,
   "metadata": {},
   "outputs": [],
   "source": []
  }
 ],
 "metadata": {
  "kernelspec": {
   "display_name": "Python 3",
   "language": "python",
   "name": "python3"
  },
  "language_info": {
   "codemirror_mode": {
    "name": "ipython",
    "version": 3
   },
   "file_extension": ".py",
   "mimetype": "text/x-python",
   "name": "python",
   "nbconvert_exporter": "python",
   "pygments_lexer": "ipython3",
   "version": "3.7.1"
  }
 },
 "nbformat": 4,
 "nbformat_minor": 4
}
