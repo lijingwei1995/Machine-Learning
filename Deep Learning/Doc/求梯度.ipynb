{
 "cells": [
  {
   "cell_type": "code",
   "execution_count": 33,
   "metadata": {},
   "outputs": [],
   "source": [
    "import torch"
   ]
  },
  {
   "cell_type": "code",
   "execution_count": 34,
   "metadata": {},
   "outputs": [
    {
     "data": {
      "text/plain": [
       "tensor([20., 60.], grad_fn=<MvBackward>)"
      ]
     },
     "execution_count": 34,
     "metadata": {},
     "output_type": "execute_result"
    }
   ],
   "source": [
    "X  = torch.tensor([ 4., 3.,  2.,  1. ])\n",
    "Y  = torch.tensor(10.)\n",
    "W1 = torch.tensor([[1., 2.,  3.,  4. ],[5.,6.,7.,8.]], requires_grad=True)\n",
    "W2 = torch.tensor( [9., 10., 11.], requires_grad=True)\n",
    "Z  = W1.mv(X)\n",
    "Z"
   ]
  },
  {
   "cell_type": "code",
   "execution_count": 35,
   "metadata": {},
   "outputs": [
    {
     "data": {
      "text/plain": [
       "tensor([20., 60.,  1.], grad_fn=<CatBackward>)"
      ]
     },
     "execution_count": 35,
     "metadata": {},
     "output_type": "execute_result"
    }
   ],
   "source": [
    "# add bias\n",
    "Z = torch.cat((Z, torch.tensor([1.])))\n",
    "Z"
   ]
  },
  {
   "cell_type": "code",
   "execution_count": 36,
   "metadata": {},
   "outputs": [
    {
     "data": {
      "text/plain": [
       "tensor(791., grad_fn=<DotBackward>)"
      ]
     },
     "execution_count": 36,
     "metadata": {},
     "output_type": "execute_result"
    }
   ],
   "source": [
    "Y_ = Z.dot(W2)\n",
    "Y_"
   ]
  },
  {
   "cell_type": "code",
   "execution_count": 37,
   "metadata": {},
   "outputs": [
    {
     "data": {
      "text/plain": [
       "(tensor([[56232., 42174., 28116., 14058.],\n",
       "         [62480., 46860., 31240., 15620.]]), tensor([31240., 93720.,  1562.]))"
      ]
     },
     "execution_count": 37,
     "metadata": {},
     "output_type": "execute_result"
    }
   ],
   "source": [
    "Loss = (Y - Y_) ** 2\n",
    "Loss.backward(retain_graph=True)\n",
    "W1.grad, W2.grad"
   ]
  },
  {
   "cell_type": "code",
   "execution_count": null,
   "metadata": {},
   "outputs": [],
   "source": []
  }
 ],
 "metadata": {
  "kernelspec": {
   "display_name": "Python 3",
   "language": "python",
   "name": "python3"
  },
  "language_info": {
   "codemirror_mode": {
    "name": "ipython",
    "version": 3
   },
   "file_extension": ".py",
   "mimetype": "text/x-python",
   "name": "python",
   "nbconvert_exporter": "python",
   "pygments_lexer": "ipython3",
   "version": "3.7.1"
  }
 },
 "nbformat": 4,
 "nbformat_minor": 2
}
