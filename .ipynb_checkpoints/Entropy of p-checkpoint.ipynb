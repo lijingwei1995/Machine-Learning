{
 "cells": [
  {
   "cell_type": "markdown",
   "metadata": {},
   "source": [
    "# 引用包"
   ]
  },
  {
   "cell_type": "code",
   "execution_count": 15,
   "metadata": {},
   "outputs": [],
   "source": [
    "import numpy as np\n",
    "import matplotlib.pyplot as plt"
   ]
  },
  {
   "cell_type": "markdown",
   "metadata": {},
   "source": [
    "# 创建一个计算熵的函数\n",
    "规定$0log0 = 0$"
   ]
  },
  {
   "cell_type": "code",
   "execution_count": 16,
   "metadata": {},
   "outputs": [],
   "source": [
    "log_entropy = np.frompyfunc(lambda x : 0 if x == 0 else np.log2(x), 1, 1)"
   ]
  },
  {
   "cell_type": "markdown",
   "metadata": {},
   "source": [
    "# 创建一个序列$p$作为自变量\n",
    "$p$是服从0-1分布的随机变量$X$取1的概率  "
   ]
  },
  {
   "cell_type": "code",
   "execution_count": 17,
   "metadata": {},
   "outputs": [
    {
     "data": {
      "text/plain": [
       "array([0.  , 0.01, 0.02, 0.03, 0.04, 0.05, 0.06, 0.07, 0.08, 0.09, 0.1 ,\n",
       "       0.11, 0.12, 0.13, 0.14, 0.15, 0.16, 0.17, 0.18, 0.19, 0.2 , 0.21,\n",
       "       0.22, 0.23, 0.24, 0.25, 0.26, 0.27, 0.28, 0.29, 0.3 , 0.31, 0.32,\n",
       "       0.33, 0.34, 0.35, 0.36, 0.37, 0.38, 0.39, 0.4 , 0.41, 0.42, 0.43,\n",
       "       0.44, 0.45, 0.46, 0.47, 0.48, 0.49, 0.5 , 0.51, 0.52, 0.53, 0.54,\n",
       "       0.55, 0.56, 0.57, 0.58, 0.59, 0.6 , 0.61, 0.62, 0.63, 0.64, 0.65,\n",
       "       0.66, 0.67, 0.68, 0.69, 0.7 , 0.71, 0.72, 0.73, 0.74, 0.75, 0.76,\n",
       "       0.77, 0.78, 0.79, 0.8 , 0.81, 0.82, 0.83, 0.84, 0.85, 0.86, 0.87,\n",
       "       0.88, 0.89, 0.9 , 0.91, 0.92, 0.93, 0.94, 0.95, 0.96, 0.97, 0.98,\n",
       "       0.99, 1.  ])"
      ]
     },
     "execution_count": 17,
     "metadata": {},
     "output_type": "execute_result"
    }
   ],
   "source": [
    "p = np.arange(0.00, 1.01, 0.01)\n",
    "p"
   ]
  },
  {
   "cell_type": "markdown",
   "metadata": {},
   "source": [
    "# 根据序列$p$创建因变量$H(p)$\n",
    "$H(p)$是随机变量$X$的熵  \n",
    "满足：$$H(p)=-plogp-(1-p)log(1-p)$$"
   ]
  },
  {
   "cell_type": "code",
   "execution_count": 18,
   "metadata": {},
   "outputs": [
    {
     "data": {
      "text/plain": [
       "array([-0.0, 0.08079313589591118, 0.14144054254182067, 0.1943918578315762,\n",
       "       0.24229218908241482, 0.28639695711595625, 0.32744491915447627,\n",
       "       0.36592365090022333, 0.4021791902022728, 0.43646981706410287,\n",
       "       0.4689955935892812, 0.499915958164528, 0.5293608652873644,\n",
       "       0.557438185027989, 0.584238811642856, 0.6098403047164004,\n",
       "       0.6343095546405662, 0.6577047787442195, 0.6800770457282798,\n",
       "       0.7014714598838974, 0.7219280948873623, 0.7414827399312737,\n",
       "       0.7601675029619657, 0.7780113035465377, 0.7950402793845223,\n",
       "       0.8112781244591328, 0.8267463724926178, 0.8414646362081757,\n",
       "       0.8554508105601306, 0.8687212463394045, 0.8812908992306927,\n",
       "       0.8931734583778568, 0.9043814577244939, 0.9149263727797275,\n",
       "       0.9248187049730301, 0.934068055375491, 0.9426831892554922,\n",
       "       0.9506720926870659, 0.9580420222262995, 0.9647995485050872,\n",
       "       0.9709505944546686, 0.976500468757824, 0.9814538950336535,\n",
       "       0.9858150371789197, 0.9895875212220556, 0.9927744539878083,\n",
       "       0.9953784388202257, 0.9974015885677396, 0.9988455359952018,\n",
       "       0.9997114417528099, 1.0, 0.9997114417528099, 0.9988455359952018,\n",
       "       0.9974015885677396, 0.9953784388202257, 0.9927744539878083,\n",
       "       0.9895875212220556, 0.9858150371789198, 0.9814538950336537,\n",
       "       0.976500468757824, 0.9709505944546686, 0.9647995485050872,\n",
       "       0.9580420222262995, 0.9506720926870659, 0.9426831892554922,\n",
       "       0.934068055375491, 0.92481870497303, 0.9149263727797274,\n",
       "       0.9043814577244937, 0.8931734583778567, 0.8812908992306926,\n",
       "       0.8687212463394046, 0.8554508105601306, 0.8414646362081757,\n",
       "       0.8267463724926178, 0.8112781244591328, 0.7950402793845223,\n",
       "       0.7780113035465376, 0.7601675029619656, 0.7414827399312736,\n",
       "       0.7219280948873623, 0.7014714598838974, 0.6800770457282796,\n",
       "       0.6577047787442193, 0.6343095546405662, 0.6098403047164005,\n",
       "       0.584238811642856, 0.557438185027989, 0.5293608652873644,\n",
       "       0.49991595816452794, 0.4689955935892811, 0.4364698170641028,\n",
       "       0.40217919020227266, 0.36592365090022305, 0.32744491915447593,\n",
       "       0.2863969571159558, 0.24229218908241493, 0.1943918578315763,\n",
       "       0.14144054254182076, 0.08079313589591124, -0.0], dtype=object)"
      ]
     },
     "execution_count": 18,
     "metadata": {},
     "output_type": "execute_result"
    }
   ],
   "source": [
    "h = -p * log_entropy(p) - (1 - p) * log_entropy(1 - p)\n",
    "h"
   ]
  },
  {
   "cell_type": "markdown",
   "metadata": {},
   "source": [
    "# 绘图"
   ]
  },
  {
   "cell_type": "code",
   "execution_count": 22,
   "metadata": {},
   "outputs": [
    {
     "data": {
      "image/png": "[encoded data removed]",
      "text/plain": [
       "<Figure size 432x288 with 1 Axes>"
      ]
     },
     "metadata": {
      "needs_background": "light"
     },
     "output_type": "display_data"
    }
   ],
   "source": [
    "plt.plot(p, h)\n",
    "plt.xlim(0.0, 1.0) # 设置x,y轴范围\n",
    "plt.xticks(np.arange(0.0, 1.01, 0.1))\n",
    "plt.ylim(0.0, 1.0)\n",
    "plt.xlabel(r'$p$') # 设置x,y标题\n",
    "plt.ylabel(r'$H(p)$')\n",
    "plt.show()"
   ]
  },
  {
   "cell_type": "code",
   "execution_count": null,
   "metadata": {},
   "outputs": [],
   "source": []
  },
  {
   "cell_type": "code",
   "execution_count": null,
   "metadata": {},
   "outputs": [],
   "source": []
  }
 ],
 "metadata": {
  "kernelspec": {
   "display_name": "Python 3",
   "language": "python",
   "name": "python3"
  },
  "language_info": {
   "codemirror_mode": {
    "name": "ipython",
    "version": 3
   },
   "file_extension": ".py",
   "mimetype": "text/x-python",
   "name": "python",
   "nbconvert_exporter": "python",
   "pygments_lexer": "ipython3",
   "version": "3.7.1"
  }
 },
 "nbformat": 4,
 "nbformat_minor": 2
}
