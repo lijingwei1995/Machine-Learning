{
 "cells": [
  {
   "cell_type": "markdown",
   "metadata": {},
   "source": [
    "# 马尔可夫链\n",
    "以下讨论状态与时间都离散的马尔可夫链。  \n",
    "\n",
    "**马尔可夫性**  \n",
    "下一个状态仅仅与现在状态有关。  \n",
    "$$P(X_{t+1}=a_{t+1}|X_t=a_t)=P(X_{t+1}=a_{t+1}|X_t=a_t,X_{t-1}=a_{t-1},\\dots,X_1=a_1)$$\n",
    "\n",
    "**齐次的马尔可夫链**  \n",
    "$$P(X_{t+1}=a|X_t=b)=P(X_2=a|X_1=b)$$\n",
    "用白话说，如果转移矩阵始终不变，则称此转移矩阵具有平稳性。同时称此链是齐次的（时齐的、时不变的）马尔可夫链（time-homogeneous Markov chain）或平稳的马尔可夫链（stationary Markov chain）。\n",
    "\n",
    "**马尔可夫链的平稳分布**  \n",
    "任意时刻每个状态的概率可以构成一个分布（分布律），记为$\\pi$。初始分布可记为$\\pi_0$。若该分布在任意次转移后仍不变，即$\\pi=\\pi P$，则称其为平稳分布。我们可以看出，如果一个齐次的马尔可夫链某一时刻的状态分布服从平稳分布，那么之后都会服从这个分布。\n",
    "\n",
    "**平稳随机过程**  \n",
    "平稳过程是一种重要的随机过程，其主要的统计特性不会随时间推移而改变。具体来说，如果随机变量序列的任意有限子集的联合分布不随时间变化，即对于每个$n$和$t$,均满足：\n",
    "$$P(X_1=x_1,X_2=x_2,\\dots,X_n=x_n)=P(X_{1+t}=x_1,X_{2+t}=x_2,\\dots,X_{n+t}=x_n)$$\n",
    "则称此随机过程是平稳的。也就是说，随机过程中出现某一序列的概率是和时间无关的。\n",
    "\n",
    "**服从平稳分布的齐次马尔可夫链是平稳随机过程**  \n",
    "我们用一个简单的例子说明：  \n",
    "首先，因为该链服从平稳分布，则依据该分布，任一时刻取到状态$x_1$的概率相同：\n",
    "$$\\begin{equation}\n",
    "P(X_1=x_1)=P(X_{1+t}=x_1)\n",
    "\\end{equation}$$\n",
    "又因为该链是齐次的，有：\n",
    "$$P(X_2=x_2|X_1=x_1)=P(X_{2+t}=x_2|X_{1+t}=x_1) \\tag{2}$$\n",
    "由$(1)$和$(2)$可得：\n",
    "$$\\begin{eqnarray}\n",
    "P(X_1=x_1)P(X_2=x_2|X_1=x_1)&=&P(X_{1+t}=x_1)P(X_{2+t}=x_2|X_{1+t}=x_1)\\\\\n",
    "P(X_1=x_1,X_2=x_2)&=&P(X_{1+t}=x_1,X_{2+t}=x_2) \\tag{3}\n",
    "\\end{eqnarray}$$\n",
    "证明了长度为2的序列是平稳过程，推广到更长序列：  \n",
    "再次利用齐次性质：\n",
    "$$P(X_3=x_3|X_2=x_2)=P(X_{3+t}=x_3|X_{2+t}=x_2) \\tag{4}$$\n",
    "由马尔可夫性：\n",
    "$$P(X_3=x_3|X_2=x_2)=P(X_3=x_3|X_1=x_1,X_2=x_2) \\tag{5}$$\n",
    "$$P(X_{3+t}=x_3|X_{2+t}=x_2)=P(X_{3+t}=x_3|X_{1+t}=x_1,X_{2+t}=x_2) \\tag{6}$$\n",
    "由$(3),(4),(5),(6)$可得：\n",
    "$$P(X_1=x_1,X_2=x_2,X_3=x_3)=P(X_{1+t}=x_1,X_{2+t}=x_2,X_{3+t}=x_3)$$\n",
    "证明了长度为3的序列是平稳过程，同理可以推广到更长的序列。  \n",
    "综上，服从平稳分布的齐次马尔可夫链是平稳随机过程。\n",
    "\n",
    "**极限分布**  \n",
    "若能找到一正整数$m$,使$m$步转移概率矩阵$\\bf\\it P^m$无零元，则该链存在一极限分布，当时间趋于无穷时，状态分布总会收敛到该分布。极限分布也是马尔可夫链的平稳分布。因此，对于一个存在平稳分布的齐次的（平稳的）马尔可夫链，初始分布若不是平稳分布，则此时此随机过程不是平稳随机过程；当时间趋于无穷时，该链必将收敛于平稳分布，此时是平稳随机过程。"
   ]
  },
  {
   "cell_type": "code",
   "execution_count": 1,
   "metadata": {},
   "outputs": [],
   "source": [
    "import numpy as np\n",
    "import matplotlib.pyplot as plt"
   ]
  },
  {
   "cell_type": "code",
   "execution_count": 5,
   "metadata": {},
   "outputs": [
    {
     "data": {
      "text/plain": [
       "array([0.6, 0.4])"
      ]
     },
     "execution_count": 5,
     "metadata": {},
     "output_type": "execute_result"
    }
   ],
   "source": [
    "# 设 P 为马尔可夫链的转移矩阵\n",
    "P = np.array(\n",
    "    [\n",
    "        [0.3, 0.7],\n",
    "        [0.8, 0.2]\n",
    "    ]\n",
    ")\n",
    "# 设 pi_0 为任意初始分布\n",
    "pi_0 = np.array([0.4, 0.6])\n",
    "\n",
    "# 第一步后转移分布为 pi_1\n",
    "pi_1 = pi_0 @ P\n",
    "pi_1"
   ]
  },
  {
   "cell_type": "markdown",
   "metadata": {},
   "source": [
    "对于一个两状态的马尔可夫链，其概率矩阵为：\n",
    "$$P=\\begin{bmatrix}\n",
    "1-\\alpha&\\alpha\\\\\n",
    "\\beta&1-\\beta\n",
    "\\end{bmatrix}$$\n",
    "设向量$\\mu=(\\mu_1,\\mu_2),(\\mu_1+\\mu_2=1)$表示其平稳分布，则通过解矩阵方程：\n",
    "\n",
    "$$\\begin{eqnarray}\n",
    "\\begin{bmatrix}\n",
    "\\mu_1&\\mu_2\n",
    "\\end{bmatrix}\n",
    "\\begin{bmatrix}\n",
    "1-\\alpha&\\alpha\\\\\n",
    "\\beta&1-\\beta\n",
    "\\end{bmatrix}&=&\n",
    "\\begin{bmatrix}\n",
    "\\mu_1&\\mu_2\n",
    "\\end{bmatrix}\\\\\n",
    "\\begin{bmatrix}\n",
    "\\mu_1&\\mu_2\n",
    "\\end{bmatrix}\n",
    "\\begin{bmatrix}\n",
    "-\\alpha&\\alpha\\\\\n",
    "\\beta&-\\beta\n",
    "\\end{bmatrix}&=&\n",
    "0\n",
    "\\end{eqnarray}$$\n",
    "可得：\n",
    "$$\n",
    "\\begin{cases}\n",
    "\\mu_1=\\frac{\\beta}{\\alpha+\\beta}\\\\\n",
    "\\mu_2=\\frac{\\alpha}{\\alpha+\\beta}\n",
    "\\end{cases}$$\n",
    "本题中，$\\alpha=0.7$,$\\beta=0.8$。\n",
    "因此求得，$\\mu_1=\\frac{8}{15}\\approx0.5333$,$\\mu_2=\\frac{7}{15}\\approx0.4666$。"
   ]
  },
  {
   "cell_type": "code",
   "execution_count": 8,
   "metadata": {},
   "outputs": [
    {
     "data": {
      "text/plain": [
       "array([0.6, 0.4])"
      ]
     },
     "execution_count": 8,
     "metadata": {},
     "output_type": "execute_result"
    }
   ],
   "source": [
    "# 函数 transit(pi_i, P, n) 求马尔可夫链从分布 pi_i 转移 n 步后的分布\n",
    "def transit(pi_i, P, n):\n",
    "    for i in range(n):\n",
    "        pi_i = pi_i @ P\n",
    "    return pi_i\n",
    "\n",
    "transit(pi_0, P, 1)"
   ]
  },
  {
   "cell_type": "code",
   "execution_count": 15,
   "metadata": {},
   "outputs": [
    {
     "name": "stdout",
     "output_type": "stream",
     "text": [
      "pi_0:[0.4 0.6]\n",
      "pi_1:[0.6 0.4]\n",
      "pi_2:[0.5 0.5]\n",
      "pi_3:[0.55 0.45]\n",
      "pi_4:[0.525 0.475]\n",
      "pi_5:[0.5375 0.4625]\n",
      "pi_6:[0.53125 0.46875]\n",
      "pi_7:[0.534375 0.465625]\n",
      "pi_8:[0.5328125 0.4671875]\n",
      "pi_9:[0.53359375 0.46640625]\n",
      "pi_10:[0.53320312 0.46679688]\n",
      "pi_11:[0.53339844 0.46660156]\n",
      "pi_12:[0.53330078 0.46669922]\n",
      "pi_13:[0.53334961 0.46665039]\n",
      "pi_14:[0.5333252 0.4666748]\n",
      "pi_15:[0.5333374 0.4666626]\n",
      "pi_16:[0.5333313 0.4666687]\n",
      "pi_17:[0.53333435 0.46666565]\n",
      "pi_18:[0.53333282 0.46666718]\n",
      "pi_19:[0.53333359 0.46666641]\n",
      "pi_20:[0.53333321 0.46666679]\n",
      "pi_21:[0.5333334 0.4666666]\n",
      "pi_22:[0.5333333 0.4666667]\n",
      "pi_23:[0.53333335 0.46666665]\n",
      "pi_24:[0.53333333 0.46666667]\n",
      "pi_25:[0.53333334 0.46666666]\n",
      "pi_26:[0.53333333 0.46666667]\n",
      "pi_27:[0.53333333 0.46666667]\n",
      "pi_28:[0.53333333 0.46666667]\n",
      "pi_29:[0.53333333 0.46666667]\n",
      "pi_30:[0.53333333 0.46666667]\n"
     ]
    }
   ],
   "source": [
    "print(\"pi_0:\" + str(pi_0))\n",
    "\n",
    "# 输出 1-30 次转移\n",
    "pi_i = pi_0\n",
    "for i in range(30):\n",
    "    pi_i = transit(pi_i, P, 1)\n",
    "    print(\"pi_\" + str(i+1) + \":\" + str(pi_i))"
   ]
  },
  {
   "cell_type": "code",
   "execution_count": null,
   "metadata": {},
   "outputs": [],
   "source": []
  }
 ],
 "metadata": {
  "kernelspec": {
   "display_name": "Python 3",
   "language": "python",
   "name": "python3"
  },
  "language_info": {
   "codemirror_mode": {
    "name": "ipython",
    "version": 3
   },
   "file_extension": ".py",
   "mimetype": "text/x-python",
   "name": "python",
   "nbconvert_exporter": "python",
   "pygments_lexer": "ipython3",
   "version": "3.7.1"
  }
 },
 "nbformat": 4,
 "nbformat_minor": 2
}
